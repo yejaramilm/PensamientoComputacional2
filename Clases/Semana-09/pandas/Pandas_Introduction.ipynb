{
  "nbformat": 4,
  "nbformat_minor": 0,
  "metadata": {
    "colab": {
      "provenance": []
    },
    "kernelspec": {
      "name": "python3",
      "display_name": "Python 3"
    },
    "language_info": {
      "name": "python"
    }
  },
  "cells": [
    {
      "cell_type": "markdown",
      "source": [
        "**CLASE DE INTRODUCCIÓN AL MACHINE LEARNING AUTO 1 - EDA pandas**\n",
        "\n",
        "**POR:** Yomin Jaramillo Múnera\n",
        "\n",
        "\n",
        "**BASADO EN:**\n",
        "\n",
        "https://towardsdatascience.com/an-introduction-to-pandas-29d15a7da6d\n",
        "\n",
        "https://pandas.pydata.org/docs/user_guide/index.html"
      ],
      "metadata": {
        "id": "xr-VeW_tkk1s"
      }
    },
    {
      "cell_type": "markdown",
      "source": [
        "Pandas es un paquete especializado que permite hacer el analisis de datos y nos facilita el trabajo con bases de datos externas. Es una herramienta popular para abordar el  análisis exploratorio de datos - EDA"
      ],
      "metadata": {
        "id": "VvxcWSO1lA4n"
      }
    },
    {
      "cell_type": "code",
      "execution_count": 1,
      "metadata": {
        "id": "nqhT-710kjeq"
      },
      "outputs": [],
      "source": [
        "import pandas as pd # como numpy generalmente se abrevia como np, por lo general pandas se abrevia como pd"
      ]
    },
    {
      "cell_type": "markdown",
      "source": [
        "La principal aplicación de pandas es el trabajo con Dataframes, los cuales son definidos como: Datos tabulares bidimensionales, de tamaño variable y potencialmente heterogéneos.La estructura de datos también contiene ejes etiquetados (filas y columnas).\n",
        "El dataframe es la principal estructura de datos de pandas.\n",
        "\n",
        "Por lo tanto hablamos de una estructura de datos bidimensional (comparable con una matriz), con la diferencia que los tipos de datos en la estructura puede ser diferente. Al igual que la matriz, se organiza en filas y columnas."
      ],
      "metadata": {
        "id": "NttUuRbNkkGk"
      }
    },
    {
      "cell_type": "markdown",
      "source": [
        "**CREACIÓN DE UN DATAFRAME**\n",
        "\n",
        "En general, existen multiples formas de crear un Dataframe, desde una lista, desde un diccionario, desde un array de numpy o incluso se pueden importar archivos externos como .csv, .xls, o sql"
      ],
      "metadata": {
        "id": "GNO5NtLKnsLd"
      }
    },
    {
      "cell_type": "code",
      "source": [
        "#Desde una lista\n",
        "Animes_favoritos = [['Shingeki no Kyogin', 'Eren'], ['Naruto', 'Naruto'], ['Death note', 'Yagami']]\n",
        "df_animes = pd.DataFrame(Animes_favoritos)\n",
        "df_animes"
      ],
      "metadata": {
        "colab": {
          "base_uri": "https://localhost:8080/",
          "height": 143
        },
        "id": "jgr4L-6dmYWh",
        "outputId": "ba355fca-92a8-4423-ea50-ff5e39a693b9"
      },
      "execution_count": 2,
      "outputs": [
        {
          "output_type": "execute_result",
          "data": {
            "text/plain": [
              "                    0       1\n",
              "0  Shingeki no Kyogin    Eren\n",
              "1              Naruto  Naruto\n",
              "2          Death note  Yagami"
            ],
            "text/html": [
              "\n",
              "  <div id=\"df-fd892980-48ca-4481-8c11-d1271a11e6c3\">\n",
              "    <div class=\"colab-df-container\">\n",
              "      <div>\n",
              "<style scoped>\n",
              "    .dataframe tbody tr th:only-of-type {\n",
              "        vertical-align: middle;\n",
              "    }\n",
              "\n",
              "    .dataframe tbody tr th {\n",
              "        vertical-align: top;\n",
              "    }\n",
              "\n",
              "    .dataframe thead th {\n",
              "        text-align: right;\n",
              "    }\n",
              "</style>\n",
              "<table border=\"1\" class=\"dataframe\">\n",
              "  <thead>\n",
              "    <tr style=\"text-align: right;\">\n",
              "      <th></th>\n",
              "      <th>0</th>\n",
              "      <th>1</th>\n",
              "    </tr>\n",
              "  </thead>\n",
              "  <tbody>\n",
              "    <tr>\n",
              "      <th>0</th>\n",
              "      <td>Shingeki no Kyogin</td>\n",
              "      <td>Eren</td>\n",
              "    </tr>\n",
              "    <tr>\n",
              "      <th>1</th>\n",
              "      <td>Naruto</td>\n",
              "      <td>Naruto</td>\n",
              "    </tr>\n",
              "    <tr>\n",
              "      <th>2</th>\n",
              "      <td>Death note</td>\n",
              "      <td>Yagami</td>\n",
              "    </tr>\n",
              "  </tbody>\n",
              "</table>\n",
              "</div>\n",
              "      <button class=\"colab-df-convert\" onclick=\"convertToInteractive('df-fd892980-48ca-4481-8c11-d1271a11e6c3')\"\n",
              "              title=\"Convert this dataframe to an interactive table.\"\n",
              "              style=\"display:none;\">\n",
              "        \n",
              "  <svg xmlns=\"http://www.w3.org/2000/svg\" height=\"24px\"viewBox=\"0 0 24 24\"\n",
              "       width=\"24px\">\n",
              "    <path d=\"M0 0h24v24H0V0z\" fill=\"none\"/>\n",
              "    <path d=\"M18.56 5.44l.94 2.06.94-2.06 2.06-.94-2.06-.94-.94-2.06-.94 2.06-2.06.94zm-11 1L8.5 8.5l.94-2.06 2.06-.94-2.06-.94L8.5 2.5l-.94 2.06-2.06.94zm10 10l.94 2.06.94-2.06 2.06-.94-2.06-.94-.94-2.06-.94 2.06-2.06.94z\"/><path d=\"M17.41 7.96l-1.37-1.37c-.4-.4-.92-.59-1.43-.59-.52 0-1.04.2-1.43.59L10.3 9.45l-7.72 7.72c-.78.78-.78 2.05 0 2.83L4 21.41c.39.39.9.59 1.41.59.51 0 1.02-.2 1.41-.59l7.78-7.78 2.81-2.81c.8-.78.8-2.07 0-2.86zM5.41 20L4 18.59l7.72-7.72 1.47 1.35L5.41 20z\"/>\n",
              "  </svg>\n",
              "      </button>\n",
              "      \n",
              "  <style>\n",
              "    .colab-df-container {\n",
              "      display:flex;\n",
              "      flex-wrap:wrap;\n",
              "      gap: 12px;\n",
              "    }\n",
              "\n",
              "    .colab-df-convert {\n",
              "      background-color: #E8F0FE;\n",
              "      border: none;\n",
              "      border-radius: 50%;\n",
              "      cursor: pointer;\n",
              "      display: none;\n",
              "      fill: #1967D2;\n",
              "      height: 32px;\n",
              "      padding: 0 0 0 0;\n",
              "      width: 32px;\n",
              "    }\n",
              "\n",
              "    .colab-df-convert:hover {\n",
              "      background-color: #E2EBFA;\n",
              "      box-shadow: 0px 1px 2px rgba(60, 64, 67, 0.3), 0px 1px 3px 1px rgba(60, 64, 67, 0.15);\n",
              "      fill: #174EA6;\n",
              "    }\n",
              "\n",
              "    [theme=dark] .colab-df-convert {\n",
              "      background-color: #3B4455;\n",
              "      fill: #D2E3FC;\n",
              "    }\n",
              "\n",
              "    [theme=dark] .colab-df-convert:hover {\n",
              "      background-color: #434B5C;\n",
              "      box-shadow: 0px 1px 3px 1px rgba(0, 0, 0, 0.15);\n",
              "      filter: drop-shadow(0px 1px 2px rgba(0, 0, 0, 0.3));\n",
              "      fill: #FFFFFF;\n",
              "    }\n",
              "  </style>\n",
              "\n",
              "      <script>\n",
              "        const buttonEl =\n",
              "          document.querySelector('#df-fd892980-48ca-4481-8c11-d1271a11e6c3 button.colab-df-convert');\n",
              "        buttonEl.style.display =\n",
              "          google.colab.kernel.accessAllowed ? 'block' : 'none';\n",
              "\n",
              "        async function convertToInteractive(key) {\n",
              "          const element = document.querySelector('#df-fd892980-48ca-4481-8c11-d1271a11e6c3');\n",
              "          const dataTable =\n",
              "            await google.colab.kernel.invokeFunction('convertToInteractive',\n",
              "                                                     [key], {});\n",
              "          if (!dataTable) return;\n",
              "\n",
              "          const docLinkHtml = 'Like what you see? Visit the ' +\n",
              "            '<a target=\"_blank\" href=https://colab.research.google.com/notebooks/data_table.ipynb>data table notebook</a>'\n",
              "            + ' to learn more about interactive tables.';\n",
              "          element.innerHTML = '';\n",
              "          dataTable['output_type'] = 'display_data';\n",
              "          await google.colab.output.renderOutput(dataTable, element);\n",
              "          const docLink = document.createElement('div');\n",
              "          docLink.innerHTML = docLinkHtml;\n",
              "          element.appendChild(docLink);\n",
              "        }\n",
              "      </script>\n",
              "    </div>\n",
              "  </div>\n",
              "  "
            ]
          },
          "metadata": {},
          "execution_count": 2
        }
      ]
    },
    {
      "cell_type": "code",
      "source": [
        "#Desde un diccionario\n",
        "dict1 = {'Exercises': ['Running','Walking','Cycling'],\n",
        "         'Mileage': [250, 1000, 550]}\n",
        "df = pd.DataFrame(dict1)\n",
        "df"
      ],
      "metadata": {
        "colab": {
          "base_uri": "https://localhost:8080/",
          "height": 143
        },
        "id": "gbgGyfOsoU-R",
        "outputId": "7bb5f09f-be45-4be5-ad6e-7e1b73499600"
      },
      "execution_count": null,
      "outputs": [
        {
          "output_type": "execute_result",
          "data": {
            "text/plain": [
              "  Exercises  Mileage\n",
              "0   Running      250\n",
              "1   Walking     1000\n",
              "2   Cycling      550"
            ],
            "text/html": [
              "\n",
              "  <div id=\"df-fda629a8-0b55-45f1-9274-20671f50669e\">\n",
              "    <div class=\"colab-df-container\">\n",
              "      <div>\n",
              "<style scoped>\n",
              "    .dataframe tbody tr th:only-of-type {\n",
              "        vertical-align: middle;\n",
              "    }\n",
              "\n",
              "    .dataframe tbody tr th {\n",
              "        vertical-align: top;\n",
              "    }\n",
              "\n",
              "    .dataframe thead th {\n",
              "        text-align: right;\n",
              "    }\n",
              "</style>\n",
              "<table border=\"1\" class=\"dataframe\">\n",
              "  <thead>\n",
              "    <tr style=\"text-align: right;\">\n",
              "      <th></th>\n",
              "      <th>Exercises</th>\n",
              "      <th>Mileage</th>\n",
              "    </tr>\n",
              "  </thead>\n",
              "  <tbody>\n",
              "    <tr>\n",
              "      <th>0</th>\n",
              "      <td>Running</td>\n",
              "      <td>250</td>\n",
              "    </tr>\n",
              "    <tr>\n",
              "      <th>1</th>\n",
              "      <td>Walking</td>\n",
              "      <td>1000</td>\n",
              "    </tr>\n",
              "    <tr>\n",
              "      <th>2</th>\n",
              "      <td>Cycling</td>\n",
              "      <td>550</td>\n",
              "    </tr>\n",
              "  </tbody>\n",
              "</table>\n",
              "</div>\n",
              "      <button class=\"colab-df-convert\" onclick=\"convertToInteractive('df-fda629a8-0b55-45f1-9274-20671f50669e')\"\n",
              "              title=\"Convert this dataframe to an interactive table.\"\n",
              "              style=\"display:none;\">\n",
              "        \n",
              "  <svg xmlns=\"http://www.w3.org/2000/svg\" height=\"24px\"viewBox=\"0 0 24 24\"\n",
              "       width=\"24px\">\n",
              "    <path d=\"M0 0h24v24H0V0z\" fill=\"none\"/>\n",
              "    <path d=\"M18.56 5.44l.94 2.06.94-2.06 2.06-.94-2.06-.94-.94-2.06-.94 2.06-2.06.94zm-11 1L8.5 8.5l.94-2.06 2.06-.94-2.06-.94L8.5 2.5l-.94 2.06-2.06.94zm10 10l.94 2.06.94-2.06 2.06-.94-2.06-.94-.94-2.06-.94 2.06-2.06.94z\"/><path d=\"M17.41 7.96l-1.37-1.37c-.4-.4-.92-.59-1.43-.59-.52 0-1.04.2-1.43.59L10.3 9.45l-7.72 7.72c-.78.78-.78 2.05 0 2.83L4 21.41c.39.39.9.59 1.41.59.51 0 1.02-.2 1.41-.59l7.78-7.78 2.81-2.81c.8-.78.8-2.07 0-2.86zM5.41 20L4 18.59l7.72-7.72 1.47 1.35L5.41 20z\"/>\n",
              "  </svg>\n",
              "      </button>\n",
              "      \n",
              "  <style>\n",
              "    .colab-df-container {\n",
              "      display:flex;\n",
              "      flex-wrap:wrap;\n",
              "      gap: 12px;\n",
              "    }\n",
              "\n",
              "    .colab-df-convert {\n",
              "      background-color: #E8F0FE;\n",
              "      border: none;\n",
              "      border-radius: 50%;\n",
              "      cursor: pointer;\n",
              "      display: none;\n",
              "      fill: #1967D2;\n",
              "      height: 32px;\n",
              "      padding: 0 0 0 0;\n",
              "      width: 32px;\n",
              "    }\n",
              "\n",
              "    .colab-df-convert:hover {\n",
              "      background-color: #E2EBFA;\n",
              "      box-shadow: 0px 1px 2px rgba(60, 64, 67, 0.3), 0px 1px 3px 1px rgba(60, 64, 67, 0.15);\n",
              "      fill: #174EA6;\n",
              "    }\n",
              "\n",
              "    [theme=dark] .colab-df-convert {\n",
              "      background-color: #3B4455;\n",
              "      fill: #D2E3FC;\n",
              "    }\n",
              "\n",
              "    [theme=dark] .colab-df-convert:hover {\n",
              "      background-color: #434B5C;\n",
              "      box-shadow: 0px 1px 3px 1px rgba(0, 0, 0, 0.15);\n",
              "      filter: drop-shadow(0px 1px 2px rgba(0, 0, 0, 0.3));\n",
              "      fill: #FFFFFF;\n",
              "    }\n",
              "  </style>\n",
              "\n",
              "      <script>\n",
              "        const buttonEl =\n",
              "          document.querySelector('#df-fda629a8-0b55-45f1-9274-20671f50669e button.colab-df-convert');\n",
              "        buttonEl.style.display =\n",
              "          google.colab.kernel.accessAllowed ? 'block' : 'none';\n",
              "\n",
              "        async function convertToInteractive(key) {\n",
              "          const element = document.querySelector('#df-fda629a8-0b55-45f1-9274-20671f50669e');\n",
              "          const dataTable =\n",
              "            await google.colab.kernel.invokeFunction('convertToInteractive',\n",
              "                                                     [key], {});\n",
              "          if (!dataTable) return;\n",
              "\n",
              "          const docLinkHtml = 'Like what you see? Visit the ' +\n",
              "            '<a target=\"_blank\" href=https://colab.research.google.com/notebooks/data_table.ipynb>data table notebook</a>'\n",
              "            + ' to learn more about interactive tables.';\n",
              "          element.innerHTML = '';\n",
              "          dataTable['output_type'] = 'display_data';\n",
              "          await google.colab.output.renderOutput(dataTable, element);\n",
              "          const docLink = document.createElement('div');\n",
              "          docLink.innerHTML = docLinkHtml;\n",
              "          element.appendChild(docLink);\n",
              "        }\n",
              "      </script>\n",
              "    </div>\n",
              "  </div>\n",
              "  "
            ]
          },
          "metadata": {},
          "execution_count": 5
        }
      ]
    },
    {
      "cell_type": "markdown",
      "source": [
        "**EJERCICIO 1:** Construir un Dataframe a partir de un array de numpy"
      ],
      "metadata": {
        "id": "zgf_TI3JqKho"
      }
    },
    {
      "cell_type": "markdown",
      "source": [
        "**IMPORTAR BASES DE DATOS**\n",
        "\n",
        "A pesar de que hay varias metodologías para la creación de Dataframes, como las vistas anteriormente, es muy común que se haga la importación de base de datos externas. \n",
        "En general, teniendo en cuenta la gran acogida de pandas como framework de análisis de datos, varios formatos pueden ser convertidos usando el pd. \n",
        "Recomiendo seguir la documentación oficial disponible en segun la necesidad que tenga: \n",
        "\n",
        "https://pandas.pydata.org/docs/user_guide/index.html\n",
        "\n",
        "Normalmente el archivo de la base de datos externa es ubicado en la misma carpeta del script de python o el notebook desde el que se va a llamar. En este notebook se trabajo con una archivo con extensión \".csv\" el cual se ubico en la misma carpeta que este notebook. \n",
        "\n",
        "Para la sincronización del notebook con google drive se ejecuta las siguiente:"
      ],
      "metadata": {
        "id": "GfxW1G8Xro5i"
      }
    },
    {
      "cell_type": "code",
      "source": [
        "from google.colab import drive\n",
        "import sys\n",
        "drive.mount('/content/drive')\n"
      ],
      "metadata": {
        "colab": {
          "base_uri": "https://localhost:8080/"
        },
        "id": "QFZMB5qGrnLa",
        "outputId": "83ccfceb-cbcb-4581-b4e6-d3e92cd563a9"
      },
      "execution_count": null,
      "outputs": [
        {
          "output_type": "stream",
          "name": "stdout",
          "text": [
            "Mounted at /content/drive\n"
          ]
        }
      ]
    },
    {
      "cell_type": "markdown",
      "source": [
        "El codigo les solicitará una autenticación para sincronizar los datos de su drive al noteebok presente. Una vez alli el el folder de la barra del menú a la izquierda le debe aparecer una carpeta llamada Drive, lo cual indíca la sincronización de la información.\n",
        "Despliegue la carpeta de Drive y busque la ubicación donde se alojan el notebook y la base de datos,  posteriormente, copie el path y corra el siguiente codigo para ubicarse directamente en dicha carpeta"
      ],
      "metadata": {
        "id": "LQTNJwToyElL"
      }
    },
    {
      "cell_type": "code",
      "source": [
        "#sys.path.append('/content/drive/MyDrive/Colab Notebooks/Auto 1')\n",
        "%cd '/content/drive/MyDrive/Colab Notebooks/Auto 1'\n",
        "#puede confirmar su ubiación mediante:\n",
        "%ls"
      ],
      "metadata": {
        "colab": {
          "base_uri": "https://localhost:8080/"
        },
        "id": "CGcwhwTXu3pf",
        "outputId": "c37cb49b-f935-4a02-e3cd-f666cb443e81"
      },
      "execution_count": null,
      "outputs": [
        {
          "output_type": "stream",
          "name": "stdout",
          "text": [
            "/content/drive/MyDrive/Colab Notebooks/Auto 1\n",
            "'Clasificacion cardiacas.ipynb'  \u001b[0m\u001b[01;34m'Laboratorio 1'\u001b[0m/             Variables.ipynb\n",
            " Class3and4_Operations.ipynb      Pandas_Introduction.ipynb\n",
            " cricketer.csv                    Untitled0.ipynb\n"
          ]
        }
      ]
    },
    {
      "cell_type": "markdown",
      "source": [
        "Una vez en la ubicación, podemos hacer la lectura de la base de datos. En este caso se va a trabajar con cricker.csv por lo que se usa el método read_csv, pero recuerde que puede varia según el archivo que desee importar"
      ],
      "metadata": {
        "id": "udmbRi_b9k2Z"
      }
    },
    {
      "cell_type": "code",
      "source": [
        "df=pd.read_csv('/content/drive/MyDrive/Colab Notebooks/Auto 1/cricketer.csv')\n",
        "print(df)"
      ],
      "metadata": {
        "colab": {
          "base_uri": "https://localhost:8080/"
        },
        "id": "gwJf1Ptv5g1S",
        "outputId": "92f26177-c00a-4ddf-af38-457e8e019eb2"
      },
      "execution_count": null,
      "outputs": [
        {
          "output_type": "stream",
          "name": "stdout",
          "text": [
            "      Unnamed: 0   left  year  life  dead  acd  kia  inbed  cause\n",
            "0              1  right  1890   102     0    0    0      0  alive\n",
            "1              2   left  1892   100     0    0    0      0  alive\n",
            "2              3  right  1893    99     0    0    0      0  alive\n",
            "3              4  right  1894    98     0    0    0      0  alive\n",
            "4              5  right  1896    96     0    0    0      0  alive\n",
            "...          ...    ...   ...   ...   ...  ...  ...    ...    ...\n",
            "5955        6168  right  1890    46     1    0    0      1  inbed\n",
            "5956        6169  right  1919    63     1    0    0      1  inbed\n",
            "5957        6170   left  1876    88     1    0    0      1  inbed\n",
            "5958        6171   left  1850    65     1    0    0      1  inbed\n",
            "5959        6172   left  1885    32     1    1    1      0    acd\n",
            "\n",
            "[5960 rows x 9 columns]\n"
          ]
        }
      ]
    },
    {
      "cell_type": "markdown",
      "source": [
        "**PRIMEROS PASOS**\n",
        "\n",
        "Es ideal hacer una visualización general de los datos para familiarizarse con ellos y estudiar la composición de la base de datos. Para esto se recomienda el uso de algunos de los siguientes métodos:"
      ],
      "metadata": {
        "id": "1d4yY0Bk_Ffz"
      }
    },
    {
      "cell_type": "code",
      "source": [
        "df.head() #toma las 5 primera muestras de la base de datos"
      ],
      "metadata": {
        "colab": {
          "base_uri": "https://localhost:8080/",
          "height": 206
        },
        "id": "FJDT38_lF1Zz",
        "outputId": "b94a9695-9bc2-402d-eaec-74b084a2a4a5"
      },
      "execution_count": null,
      "outputs": [
        {
          "output_type": "execute_result",
          "data": {
            "text/plain": [
              "   Unnamed: 0   left  year  life  dead  acd  kia  inbed  cause\n",
              "0           1  right  1890   102     0    0    0      0  alive\n",
              "1           2   left  1892   100     0    0    0      0  alive\n",
              "2           3  right  1893    99     0    0    0      0  alive\n",
              "3           4  right  1894    98     0    0    0      0  alive\n",
              "4           5  right  1896    96     0    0    0      0  alive"
            ],
            "text/html": [
              "\n",
              "  <div id=\"df-21dc813f-722f-4890-bfcb-f2734b9e5806\">\n",
              "    <div class=\"colab-df-container\">\n",
              "      <div>\n",
              "<style scoped>\n",
              "    .dataframe tbody tr th:only-of-type {\n",
              "        vertical-align: middle;\n",
              "    }\n",
              "\n",
              "    .dataframe tbody tr th {\n",
              "        vertical-align: top;\n",
              "    }\n",
              "\n",
              "    .dataframe thead th {\n",
              "        text-align: right;\n",
              "    }\n",
              "</style>\n",
              "<table border=\"1\" class=\"dataframe\">\n",
              "  <thead>\n",
              "    <tr style=\"text-align: right;\">\n",
              "      <th></th>\n",
              "      <th>Unnamed: 0</th>\n",
              "      <th>left</th>\n",
              "      <th>year</th>\n",
              "      <th>life</th>\n",
              "      <th>dead</th>\n",
              "      <th>acd</th>\n",
              "      <th>kia</th>\n",
              "      <th>inbed</th>\n",
              "      <th>cause</th>\n",
              "    </tr>\n",
              "  </thead>\n",
              "  <tbody>\n",
              "    <tr>\n",
              "      <th>0</th>\n",
              "      <td>1</td>\n",
              "      <td>right</td>\n",
              "      <td>1890</td>\n",
              "      <td>102</td>\n",
              "      <td>0</td>\n",
              "      <td>0</td>\n",
              "      <td>0</td>\n",
              "      <td>0</td>\n",
              "      <td>alive</td>\n",
              "    </tr>\n",
              "    <tr>\n",
              "      <th>1</th>\n",
              "      <td>2</td>\n",
              "      <td>left</td>\n",
              "      <td>1892</td>\n",
              "      <td>100</td>\n",
              "      <td>0</td>\n",
              "      <td>0</td>\n",
              "      <td>0</td>\n",
              "      <td>0</td>\n",
              "      <td>alive</td>\n",
              "    </tr>\n",
              "    <tr>\n",
              "      <th>2</th>\n",
              "      <td>3</td>\n",
              "      <td>right</td>\n",
              "      <td>1893</td>\n",
              "      <td>99</td>\n",
              "      <td>0</td>\n",
              "      <td>0</td>\n",
              "      <td>0</td>\n",
              "      <td>0</td>\n",
              "      <td>alive</td>\n",
              "    </tr>\n",
              "    <tr>\n",
              "      <th>3</th>\n",
              "      <td>4</td>\n",
              "      <td>right</td>\n",
              "      <td>1894</td>\n",
              "      <td>98</td>\n",
              "      <td>0</td>\n",
              "      <td>0</td>\n",
              "      <td>0</td>\n",
              "      <td>0</td>\n",
              "      <td>alive</td>\n",
              "    </tr>\n",
              "    <tr>\n",
              "      <th>4</th>\n",
              "      <td>5</td>\n",
              "      <td>right</td>\n",
              "      <td>1896</td>\n",
              "      <td>96</td>\n",
              "      <td>0</td>\n",
              "      <td>0</td>\n",
              "      <td>0</td>\n",
              "      <td>0</td>\n",
              "      <td>alive</td>\n",
              "    </tr>\n",
              "  </tbody>\n",
              "</table>\n",
              "</div>\n",
              "      <button class=\"colab-df-convert\" onclick=\"convertToInteractive('df-21dc813f-722f-4890-bfcb-f2734b9e5806')\"\n",
              "              title=\"Convert this dataframe to an interactive table.\"\n",
              "              style=\"display:none;\">\n",
              "        \n",
              "  <svg xmlns=\"http://www.w3.org/2000/svg\" height=\"24px\"viewBox=\"0 0 24 24\"\n",
              "       width=\"24px\">\n",
              "    <path d=\"M0 0h24v24H0V0z\" fill=\"none\"/>\n",
              "    <path d=\"M18.56 5.44l.94 2.06.94-2.06 2.06-.94-2.06-.94-.94-2.06-.94 2.06-2.06.94zm-11 1L8.5 8.5l.94-2.06 2.06-.94-2.06-.94L8.5 2.5l-.94 2.06-2.06.94zm10 10l.94 2.06.94-2.06 2.06-.94-2.06-.94-.94-2.06-.94 2.06-2.06.94z\"/><path d=\"M17.41 7.96l-1.37-1.37c-.4-.4-.92-.59-1.43-.59-.52 0-1.04.2-1.43.59L10.3 9.45l-7.72 7.72c-.78.78-.78 2.05 0 2.83L4 21.41c.39.39.9.59 1.41.59.51 0 1.02-.2 1.41-.59l7.78-7.78 2.81-2.81c.8-.78.8-2.07 0-2.86zM5.41 20L4 18.59l7.72-7.72 1.47 1.35L5.41 20z\"/>\n",
              "  </svg>\n",
              "      </button>\n",
              "      \n",
              "  <style>\n",
              "    .colab-df-container {\n",
              "      display:flex;\n",
              "      flex-wrap:wrap;\n",
              "      gap: 12px;\n",
              "    }\n",
              "\n",
              "    .colab-df-convert {\n",
              "      background-color: #E8F0FE;\n",
              "      border: none;\n",
              "      border-radius: 50%;\n",
              "      cursor: pointer;\n",
              "      display: none;\n",
              "      fill: #1967D2;\n",
              "      height: 32px;\n",
              "      padding: 0 0 0 0;\n",
              "      width: 32px;\n",
              "    }\n",
              "\n",
              "    .colab-df-convert:hover {\n",
              "      background-color: #E2EBFA;\n",
              "      box-shadow: 0px 1px 2px rgba(60, 64, 67, 0.3), 0px 1px 3px 1px rgba(60, 64, 67, 0.15);\n",
              "      fill: #174EA6;\n",
              "    }\n",
              "\n",
              "    [theme=dark] .colab-df-convert {\n",
              "      background-color: #3B4455;\n",
              "      fill: #D2E3FC;\n",
              "    }\n",
              "\n",
              "    [theme=dark] .colab-df-convert:hover {\n",
              "      background-color: #434B5C;\n",
              "      box-shadow: 0px 1px 3px 1px rgba(0, 0, 0, 0.15);\n",
              "      filter: drop-shadow(0px 1px 2px rgba(0, 0, 0, 0.3));\n",
              "      fill: #FFFFFF;\n",
              "    }\n",
              "  </style>\n",
              "\n",
              "      <script>\n",
              "        const buttonEl =\n",
              "          document.querySelector('#df-21dc813f-722f-4890-bfcb-f2734b9e5806 button.colab-df-convert');\n",
              "        buttonEl.style.display =\n",
              "          google.colab.kernel.accessAllowed ? 'block' : 'none';\n",
              "\n",
              "        async function convertToInteractive(key) {\n",
              "          const element = document.querySelector('#df-21dc813f-722f-4890-bfcb-f2734b9e5806');\n",
              "          const dataTable =\n",
              "            await google.colab.kernel.invokeFunction('convertToInteractive',\n",
              "                                                     [key], {});\n",
              "          if (!dataTable) return;\n",
              "\n",
              "          const docLinkHtml = 'Like what you see? Visit the ' +\n",
              "            '<a target=\"_blank\" href=https://colab.research.google.com/notebooks/data_table.ipynb>data table notebook</a>'\n",
              "            + ' to learn more about interactive tables.';\n",
              "          element.innerHTML = '';\n",
              "          dataTable['output_type'] = 'display_data';\n",
              "          await google.colab.output.renderOutput(dataTable, element);\n",
              "          const docLink = document.createElement('div');\n",
              "          docLink.innerHTML = docLinkHtml;\n",
              "          element.appendChild(docLink);\n",
              "        }\n",
              "      </script>\n",
              "    </div>\n",
              "  </div>\n",
              "  "
            ]
          },
          "metadata": {},
          "execution_count": 12
        }
      ]
    },
    {
      "cell_type": "code",
      "source": [
        "df.tail() #toma las ultimas 5 muestras de la base de datos"
      ],
      "metadata": {
        "colab": {
          "base_uri": "https://localhost:8080/",
          "height": 206
        },
        "id": "bxMLEiGbGGCW",
        "outputId": "eef3e7cc-1440-4797-99f7-fb0465aed0cf"
      },
      "execution_count": null,
      "outputs": [
        {
          "output_type": "execute_result",
          "data": {
            "text/plain": [
              "      Unnamed: 0   left  year  life  dead  acd  kia  inbed  cause\n",
              "5955        6168  right  1890    46     1    0    0      1  inbed\n",
              "5956        6169  right  1919    63     1    0    0      1  inbed\n",
              "5957        6170   left  1876    88     1    0    0      1  inbed\n",
              "5958        6171   left  1850    65     1    0    0      1  inbed\n",
              "5959        6172   left  1885    32     1    1    1      0    acd"
            ],
            "text/html": [
              "\n",
              "  <div id=\"df-476debce-d4ad-4215-91bc-ff13762acd31\">\n",
              "    <div class=\"colab-df-container\">\n",
              "      <div>\n",
              "<style scoped>\n",
              "    .dataframe tbody tr th:only-of-type {\n",
              "        vertical-align: middle;\n",
              "    }\n",
              "\n",
              "    .dataframe tbody tr th {\n",
              "        vertical-align: top;\n",
              "    }\n",
              "\n",
              "    .dataframe thead th {\n",
              "        text-align: right;\n",
              "    }\n",
              "</style>\n",
              "<table border=\"1\" class=\"dataframe\">\n",
              "  <thead>\n",
              "    <tr style=\"text-align: right;\">\n",
              "      <th></th>\n",
              "      <th>Unnamed: 0</th>\n",
              "      <th>left</th>\n",
              "      <th>year</th>\n",
              "      <th>life</th>\n",
              "      <th>dead</th>\n",
              "      <th>acd</th>\n",
              "      <th>kia</th>\n",
              "      <th>inbed</th>\n",
              "      <th>cause</th>\n",
              "    </tr>\n",
              "  </thead>\n",
              "  <tbody>\n",
              "    <tr>\n",
              "      <th>5955</th>\n",
              "      <td>6168</td>\n",
              "      <td>right</td>\n",
              "      <td>1890</td>\n",
              "      <td>46</td>\n",
              "      <td>1</td>\n",
              "      <td>0</td>\n",
              "      <td>0</td>\n",
              "      <td>1</td>\n",
              "      <td>inbed</td>\n",
              "    </tr>\n",
              "    <tr>\n",
              "      <th>5956</th>\n",
              "      <td>6169</td>\n",
              "      <td>right</td>\n",
              "      <td>1919</td>\n",
              "      <td>63</td>\n",
              "      <td>1</td>\n",
              "      <td>0</td>\n",
              "      <td>0</td>\n",
              "      <td>1</td>\n",
              "      <td>inbed</td>\n",
              "    </tr>\n",
              "    <tr>\n",
              "      <th>5957</th>\n",
              "      <td>6170</td>\n",
              "      <td>left</td>\n",
              "      <td>1876</td>\n",
              "      <td>88</td>\n",
              "      <td>1</td>\n",
              "      <td>0</td>\n",
              "      <td>0</td>\n",
              "      <td>1</td>\n",
              "      <td>inbed</td>\n",
              "    </tr>\n",
              "    <tr>\n",
              "      <th>5958</th>\n",
              "      <td>6171</td>\n",
              "      <td>left</td>\n",
              "      <td>1850</td>\n",
              "      <td>65</td>\n",
              "      <td>1</td>\n",
              "      <td>0</td>\n",
              "      <td>0</td>\n",
              "      <td>1</td>\n",
              "      <td>inbed</td>\n",
              "    </tr>\n",
              "    <tr>\n",
              "      <th>5959</th>\n",
              "      <td>6172</td>\n",
              "      <td>left</td>\n",
              "      <td>1885</td>\n",
              "      <td>32</td>\n",
              "      <td>1</td>\n",
              "      <td>1</td>\n",
              "      <td>1</td>\n",
              "      <td>0</td>\n",
              "      <td>acd</td>\n",
              "    </tr>\n",
              "  </tbody>\n",
              "</table>\n",
              "</div>\n",
              "      <button class=\"colab-df-convert\" onclick=\"convertToInteractive('df-476debce-d4ad-4215-91bc-ff13762acd31')\"\n",
              "              title=\"Convert this dataframe to an interactive table.\"\n",
              "              style=\"display:none;\">\n",
              "        \n",
              "  <svg xmlns=\"http://www.w3.org/2000/svg\" height=\"24px\"viewBox=\"0 0 24 24\"\n",
              "       width=\"24px\">\n",
              "    <path d=\"M0 0h24v24H0V0z\" fill=\"none\"/>\n",
              "    <path d=\"M18.56 5.44l.94 2.06.94-2.06 2.06-.94-2.06-.94-.94-2.06-.94 2.06-2.06.94zm-11 1L8.5 8.5l.94-2.06 2.06-.94-2.06-.94L8.5 2.5l-.94 2.06-2.06.94zm10 10l.94 2.06.94-2.06 2.06-.94-2.06-.94-.94-2.06-.94 2.06-2.06.94z\"/><path d=\"M17.41 7.96l-1.37-1.37c-.4-.4-.92-.59-1.43-.59-.52 0-1.04.2-1.43.59L10.3 9.45l-7.72 7.72c-.78.78-.78 2.05 0 2.83L4 21.41c.39.39.9.59 1.41.59.51 0 1.02-.2 1.41-.59l7.78-7.78 2.81-2.81c.8-.78.8-2.07 0-2.86zM5.41 20L4 18.59l7.72-7.72 1.47 1.35L5.41 20z\"/>\n",
              "  </svg>\n",
              "      </button>\n",
              "      \n",
              "  <style>\n",
              "    .colab-df-container {\n",
              "      display:flex;\n",
              "      flex-wrap:wrap;\n",
              "      gap: 12px;\n",
              "    }\n",
              "\n",
              "    .colab-df-convert {\n",
              "      background-color: #E8F0FE;\n",
              "      border: none;\n",
              "      border-radius: 50%;\n",
              "      cursor: pointer;\n",
              "      display: none;\n",
              "      fill: #1967D2;\n",
              "      height: 32px;\n",
              "      padding: 0 0 0 0;\n",
              "      width: 32px;\n",
              "    }\n",
              "\n",
              "    .colab-df-convert:hover {\n",
              "      background-color: #E2EBFA;\n",
              "      box-shadow: 0px 1px 2px rgba(60, 64, 67, 0.3), 0px 1px 3px 1px rgba(60, 64, 67, 0.15);\n",
              "      fill: #174EA6;\n",
              "    }\n",
              "\n",
              "    [theme=dark] .colab-df-convert {\n",
              "      background-color: #3B4455;\n",
              "      fill: #D2E3FC;\n",
              "    }\n",
              "\n",
              "    [theme=dark] .colab-df-convert:hover {\n",
              "      background-color: #434B5C;\n",
              "      box-shadow: 0px 1px 3px 1px rgba(0, 0, 0, 0.15);\n",
              "      filter: drop-shadow(0px 1px 2px rgba(0, 0, 0, 0.3));\n",
              "      fill: #FFFFFF;\n",
              "    }\n",
              "  </style>\n",
              "\n",
              "      <script>\n",
              "        const buttonEl =\n",
              "          document.querySelector('#df-476debce-d4ad-4215-91bc-ff13762acd31 button.colab-df-convert');\n",
              "        buttonEl.style.display =\n",
              "          google.colab.kernel.accessAllowed ? 'block' : 'none';\n",
              "\n",
              "        async function convertToInteractive(key) {\n",
              "          const element = document.querySelector('#df-476debce-d4ad-4215-91bc-ff13762acd31');\n",
              "          const dataTable =\n",
              "            await google.colab.kernel.invokeFunction('convertToInteractive',\n",
              "                                                     [key], {});\n",
              "          if (!dataTable) return;\n",
              "\n",
              "          const docLinkHtml = 'Like what you see? Visit the ' +\n",
              "            '<a target=\"_blank\" href=https://colab.research.google.com/notebooks/data_table.ipynb>data table notebook</a>'\n",
              "            + ' to learn more about interactive tables.';\n",
              "          element.innerHTML = '';\n",
              "          dataTable['output_type'] = 'display_data';\n",
              "          await google.colab.output.renderOutput(dataTable, element);\n",
              "          const docLink = document.createElement('div');\n",
              "          docLink.innerHTML = docLinkHtml;\n",
              "          element.appendChild(docLink);\n",
              "        }\n",
              "      </script>\n",
              "    </div>\n",
              "  </div>\n",
              "  "
            ]
          },
          "metadata": {},
          "execution_count": 13
        }
      ]
    },
    {
      "cell_type": "code",
      "source": [
        "df.info()#Muestra información general de la base de datos y tipos de datos de las columnas"
      ],
      "metadata": {
        "colab": {
          "base_uri": "https://localhost:8080/"
        },
        "id": "_imBQN_uJRYh",
        "outputId": "a621e0e4-0793-46f6-b0da-41835a9bfb11"
      },
      "execution_count": null,
      "outputs": [
        {
          "output_type": "stream",
          "name": "stdout",
          "text": [
            "<class 'pandas.core.frame.DataFrame'>\n",
            "RangeIndex: 5960 entries, 0 to 5959\n",
            "Data columns (total 9 columns):\n",
            " #   Column      Non-Null Count  Dtype \n",
            "---  ------      --------------  ----- \n",
            " 0   Unnamed: 0  5960 non-null   int64 \n",
            " 1   left        5960 non-null   object\n",
            " 2   year        5960 non-null   int64 \n",
            " 3   life        5960 non-null   int64 \n",
            " 4   dead        5960 non-null   int64 \n",
            " 5   acd         5960 non-null   int64 \n",
            " 6   kia         5960 non-null   int64 \n",
            " 7   inbed       5960 non-null   int64 \n",
            " 8   cause       5960 non-null   object\n",
            "dtypes: int64(7), object(2)\n",
            "memory usage: 419.2+ KB\n"
          ]
        }
      ]
    },
    {
      "cell_type": "code",
      "source": [
        "df.describe()#muestra descripción estadistica de los datos"
      ],
      "metadata": {
        "colab": {
          "base_uri": "https://localhost:8080/",
          "height": 300
        },
        "id": "Y324-1A_Jqiv",
        "outputId": "f7b923ef-2f97-438d-937d-2feb774d5fc6"
      },
      "execution_count": null,
      "outputs": [
        {
          "output_type": "execute_result",
          "data": {
            "text/plain": [
              "        Unnamed: 0         year         life         dead          acd  \\\n",
              "count  5960.000000  5960.000000  5960.000000  5960.000000  5960.000000   \n",
              "mean   3035.931879  1905.639430    61.836913     0.568289     0.031544   \n",
              "std    1783.262498    33.042651    16.602504     0.495356     0.174796   \n",
              "min       1.000000  1840.000000    19.000000     0.000000     0.000000   \n",
              "25%    1490.750000  1878.000000    49.000000     0.000000     0.000000   \n",
              "50%    2992.000000  1908.000000    63.000000     1.000000     0.000000   \n",
              "75%    4579.250000  1935.000000    76.000000     1.000000     0.000000   \n",
              "max    6172.000000  1960.000000   102.000000     1.000000     1.000000   \n",
              "\n",
              "               kia        inbed  \n",
              "count  5960.000000  5960.000000  \n",
              "mean      0.020134     0.536745  \n",
              "std       0.140471     0.498690  \n",
              "min       0.000000     0.000000  \n",
              "25%       0.000000     0.000000  \n",
              "50%       0.000000     1.000000  \n",
              "75%       0.000000     1.000000  \n",
              "max       1.000000     1.000000  "
            ],
            "text/html": [
              "\n",
              "  <div id=\"df-ff6af9f4-eff2-49cb-9176-21e4093b82fd\">\n",
              "    <div class=\"colab-df-container\">\n",
              "      <div>\n",
              "<style scoped>\n",
              "    .dataframe tbody tr th:only-of-type {\n",
              "        vertical-align: middle;\n",
              "    }\n",
              "\n",
              "    .dataframe tbody tr th {\n",
              "        vertical-align: top;\n",
              "    }\n",
              "\n",
              "    .dataframe thead th {\n",
              "        text-align: right;\n",
              "    }\n",
              "</style>\n",
              "<table border=\"1\" class=\"dataframe\">\n",
              "  <thead>\n",
              "    <tr style=\"text-align: right;\">\n",
              "      <th></th>\n",
              "      <th>Unnamed: 0</th>\n",
              "      <th>year</th>\n",
              "      <th>life</th>\n",
              "      <th>dead</th>\n",
              "      <th>acd</th>\n",
              "      <th>kia</th>\n",
              "      <th>inbed</th>\n",
              "    </tr>\n",
              "  </thead>\n",
              "  <tbody>\n",
              "    <tr>\n",
              "      <th>count</th>\n",
              "      <td>5960.000000</td>\n",
              "      <td>5960.000000</td>\n",
              "      <td>5960.000000</td>\n",
              "      <td>5960.000000</td>\n",
              "      <td>5960.000000</td>\n",
              "      <td>5960.000000</td>\n",
              "      <td>5960.000000</td>\n",
              "    </tr>\n",
              "    <tr>\n",
              "      <th>mean</th>\n",
              "      <td>3035.931879</td>\n",
              "      <td>1905.639430</td>\n",
              "      <td>61.836913</td>\n",
              "      <td>0.568289</td>\n",
              "      <td>0.031544</td>\n",
              "      <td>0.020134</td>\n",
              "      <td>0.536745</td>\n",
              "    </tr>\n",
              "    <tr>\n",
              "      <th>std</th>\n",
              "      <td>1783.262498</td>\n",
              "      <td>33.042651</td>\n",
              "      <td>16.602504</td>\n",
              "      <td>0.495356</td>\n",
              "      <td>0.174796</td>\n",
              "      <td>0.140471</td>\n",
              "      <td>0.498690</td>\n",
              "    </tr>\n",
              "    <tr>\n",
              "      <th>min</th>\n",
              "      <td>1.000000</td>\n",
              "      <td>1840.000000</td>\n",
              "      <td>19.000000</td>\n",
              "      <td>0.000000</td>\n",
              "      <td>0.000000</td>\n",
              "      <td>0.000000</td>\n",
              "      <td>0.000000</td>\n",
              "    </tr>\n",
              "    <tr>\n",
              "      <th>25%</th>\n",
              "      <td>1490.750000</td>\n",
              "      <td>1878.000000</td>\n",
              "      <td>49.000000</td>\n",
              "      <td>0.000000</td>\n",
              "      <td>0.000000</td>\n",
              "      <td>0.000000</td>\n",
              "      <td>0.000000</td>\n",
              "    </tr>\n",
              "    <tr>\n",
              "      <th>50%</th>\n",
              "      <td>2992.000000</td>\n",
              "      <td>1908.000000</td>\n",
              "      <td>63.000000</td>\n",
              "      <td>1.000000</td>\n",
              "      <td>0.000000</td>\n",
              "      <td>0.000000</td>\n",
              "      <td>1.000000</td>\n",
              "    </tr>\n",
              "    <tr>\n",
              "      <th>75%</th>\n",
              "      <td>4579.250000</td>\n",
              "      <td>1935.000000</td>\n",
              "      <td>76.000000</td>\n",
              "      <td>1.000000</td>\n",
              "      <td>0.000000</td>\n",
              "      <td>0.000000</td>\n",
              "      <td>1.000000</td>\n",
              "    </tr>\n",
              "    <tr>\n",
              "      <th>max</th>\n",
              "      <td>6172.000000</td>\n",
              "      <td>1960.000000</td>\n",
              "      <td>102.000000</td>\n",
              "      <td>1.000000</td>\n",
              "      <td>1.000000</td>\n",
              "      <td>1.000000</td>\n",
              "      <td>1.000000</td>\n",
              "    </tr>\n",
              "  </tbody>\n",
              "</table>\n",
              "</div>\n",
              "      <button class=\"colab-df-convert\" onclick=\"convertToInteractive('df-ff6af9f4-eff2-49cb-9176-21e4093b82fd')\"\n",
              "              title=\"Convert this dataframe to an interactive table.\"\n",
              "              style=\"display:none;\">\n",
              "        \n",
              "  <svg xmlns=\"http://www.w3.org/2000/svg\" height=\"24px\"viewBox=\"0 0 24 24\"\n",
              "       width=\"24px\">\n",
              "    <path d=\"M0 0h24v24H0V0z\" fill=\"none\"/>\n",
              "    <path d=\"M18.56 5.44l.94 2.06.94-2.06 2.06-.94-2.06-.94-.94-2.06-.94 2.06-2.06.94zm-11 1L8.5 8.5l.94-2.06 2.06-.94-2.06-.94L8.5 2.5l-.94 2.06-2.06.94zm10 10l.94 2.06.94-2.06 2.06-.94-2.06-.94-.94-2.06-.94 2.06-2.06.94z\"/><path d=\"M17.41 7.96l-1.37-1.37c-.4-.4-.92-.59-1.43-.59-.52 0-1.04.2-1.43.59L10.3 9.45l-7.72 7.72c-.78.78-.78 2.05 0 2.83L4 21.41c.39.39.9.59 1.41.59.51 0 1.02-.2 1.41-.59l7.78-7.78 2.81-2.81c.8-.78.8-2.07 0-2.86zM5.41 20L4 18.59l7.72-7.72 1.47 1.35L5.41 20z\"/>\n",
              "  </svg>\n",
              "      </button>\n",
              "      \n",
              "  <style>\n",
              "    .colab-df-container {\n",
              "      display:flex;\n",
              "      flex-wrap:wrap;\n",
              "      gap: 12px;\n",
              "    }\n",
              "\n",
              "    .colab-df-convert {\n",
              "      background-color: #E8F0FE;\n",
              "      border: none;\n",
              "      border-radius: 50%;\n",
              "      cursor: pointer;\n",
              "      display: none;\n",
              "      fill: #1967D2;\n",
              "      height: 32px;\n",
              "      padding: 0 0 0 0;\n",
              "      width: 32px;\n",
              "    }\n",
              "\n",
              "    .colab-df-convert:hover {\n",
              "      background-color: #E2EBFA;\n",
              "      box-shadow: 0px 1px 2px rgba(60, 64, 67, 0.3), 0px 1px 3px 1px rgba(60, 64, 67, 0.15);\n",
              "      fill: #174EA6;\n",
              "    }\n",
              "\n",
              "    [theme=dark] .colab-df-convert {\n",
              "      background-color: #3B4455;\n",
              "      fill: #D2E3FC;\n",
              "    }\n",
              "\n",
              "    [theme=dark] .colab-df-convert:hover {\n",
              "      background-color: #434B5C;\n",
              "      box-shadow: 0px 1px 3px 1px rgba(0, 0, 0, 0.15);\n",
              "      filter: drop-shadow(0px 1px 2px rgba(0, 0, 0, 0.3));\n",
              "      fill: #FFFFFF;\n",
              "    }\n",
              "  </style>\n",
              "\n",
              "      <script>\n",
              "        const buttonEl =\n",
              "          document.querySelector('#df-ff6af9f4-eff2-49cb-9176-21e4093b82fd button.colab-df-convert');\n",
              "        buttonEl.style.display =\n",
              "          google.colab.kernel.accessAllowed ? 'block' : 'none';\n",
              "\n",
              "        async function convertToInteractive(key) {\n",
              "          const element = document.querySelector('#df-ff6af9f4-eff2-49cb-9176-21e4093b82fd');\n",
              "          const dataTable =\n",
              "            await google.colab.kernel.invokeFunction('convertToInteractive',\n",
              "                                                     [key], {});\n",
              "          if (!dataTable) return;\n",
              "\n",
              "          const docLinkHtml = 'Like what you see? Visit the ' +\n",
              "            '<a target=\"_blank\" href=https://colab.research.google.com/notebooks/data_table.ipynb>data table notebook</a>'\n",
              "            + ' to learn more about interactive tables.';\n",
              "          element.innerHTML = '';\n",
              "          dataTable['output_type'] = 'display_data';\n",
              "          await google.colab.output.renderOutput(dataTable, element);\n",
              "          const docLink = document.createElement('div');\n",
              "          docLink.innerHTML = docLinkHtml;\n",
              "          element.appendChild(docLink);\n",
              "        }\n",
              "      </script>\n",
              "    </div>\n",
              "  </div>\n",
              "  "
            ]
          },
          "metadata": {},
          "execution_count": 15
        }
      ]
    },
    {
      "cell_type": "code",
      "source": [
        "df.sample(10) #imprime una cantidad especifica de muestras de forma aleatoria "
      ],
      "metadata": {
        "colab": {
          "base_uri": "https://localhost:8080/",
          "height": 363
        },
        "id": "152s-Px9KrOR",
        "outputId": "c4d08841-386a-45aa-a996-2b15e3b60128"
      },
      "execution_count": null,
      "outputs": [
        {
          "output_type": "execute_result",
          "data": {
            "text/plain": [
              "      Unnamed: 0   left  year  life  dead  acd  kia  inbed  cause\n",
              "107          108  right  1910    82     0    0    0      0  alive\n",
              "1355        1356  right  1938    54     0    0    0      0  alive\n",
              "4269        4365  right  1846    65     1    0    0      1  inbed\n",
              "4416        4522  right  1899    89     1    0    0      1  inbed\n",
              "3979        4052   left  1871    83     1    0    0      1  inbed\n",
              "2293        2294  right  1955    37     0    0    0      0  alive\n",
              "4451        4558  right  1883    32     1    0    0      1  inbed\n",
              "4220        4311   left  1873    58     1    0    0      1  inbed\n",
              "3710        3770  right  1871    65     1    0    0      1  inbed\n",
              "611          612  right  1925    67     0    0    0      0  alive"
            ],
            "text/html": [
              "\n",
              "  <div id=\"df-0a5eb705-7332-40cf-910a-21486fe3294d\">\n",
              "    <div class=\"colab-df-container\">\n",
              "      <div>\n",
              "<style scoped>\n",
              "    .dataframe tbody tr th:only-of-type {\n",
              "        vertical-align: middle;\n",
              "    }\n",
              "\n",
              "    .dataframe tbody tr th {\n",
              "        vertical-align: top;\n",
              "    }\n",
              "\n",
              "    .dataframe thead th {\n",
              "        text-align: right;\n",
              "    }\n",
              "</style>\n",
              "<table border=\"1\" class=\"dataframe\">\n",
              "  <thead>\n",
              "    <tr style=\"text-align: right;\">\n",
              "      <th></th>\n",
              "      <th>Unnamed: 0</th>\n",
              "      <th>left</th>\n",
              "      <th>year</th>\n",
              "      <th>life</th>\n",
              "      <th>dead</th>\n",
              "      <th>acd</th>\n",
              "      <th>kia</th>\n",
              "      <th>inbed</th>\n",
              "      <th>cause</th>\n",
              "    </tr>\n",
              "  </thead>\n",
              "  <tbody>\n",
              "    <tr>\n",
              "      <th>107</th>\n",
              "      <td>108</td>\n",
              "      <td>right</td>\n",
              "      <td>1910</td>\n",
              "      <td>82</td>\n",
              "      <td>0</td>\n",
              "      <td>0</td>\n",
              "      <td>0</td>\n",
              "      <td>0</td>\n",
              "      <td>alive</td>\n",
              "    </tr>\n",
              "    <tr>\n",
              "      <th>1355</th>\n",
              "      <td>1356</td>\n",
              "      <td>right</td>\n",
              "      <td>1938</td>\n",
              "      <td>54</td>\n",
              "      <td>0</td>\n",
              "      <td>0</td>\n",
              "      <td>0</td>\n",
              "      <td>0</td>\n",
              "      <td>alive</td>\n",
              "    </tr>\n",
              "    <tr>\n",
              "      <th>4269</th>\n",
              "      <td>4365</td>\n",
              "      <td>right</td>\n",
              "      <td>1846</td>\n",
              "      <td>65</td>\n",
              "      <td>1</td>\n",
              "      <td>0</td>\n",
              "      <td>0</td>\n",
              "      <td>1</td>\n",
              "      <td>inbed</td>\n",
              "    </tr>\n",
              "    <tr>\n",
              "      <th>4416</th>\n",
              "      <td>4522</td>\n",
              "      <td>right</td>\n",
              "      <td>1899</td>\n",
              "      <td>89</td>\n",
              "      <td>1</td>\n",
              "      <td>0</td>\n",
              "      <td>0</td>\n",
              "      <td>1</td>\n",
              "      <td>inbed</td>\n",
              "    </tr>\n",
              "    <tr>\n",
              "      <th>3979</th>\n",
              "      <td>4052</td>\n",
              "      <td>left</td>\n",
              "      <td>1871</td>\n",
              "      <td>83</td>\n",
              "      <td>1</td>\n",
              "      <td>0</td>\n",
              "      <td>0</td>\n",
              "      <td>1</td>\n",
              "      <td>inbed</td>\n",
              "    </tr>\n",
              "    <tr>\n",
              "      <th>2293</th>\n",
              "      <td>2294</td>\n",
              "      <td>right</td>\n",
              "      <td>1955</td>\n",
              "      <td>37</td>\n",
              "      <td>0</td>\n",
              "      <td>0</td>\n",
              "      <td>0</td>\n",
              "      <td>0</td>\n",
              "      <td>alive</td>\n",
              "    </tr>\n",
              "    <tr>\n",
              "      <th>4451</th>\n",
              "      <td>4558</td>\n",
              "      <td>right</td>\n",
              "      <td>1883</td>\n",
              "      <td>32</td>\n",
              "      <td>1</td>\n",
              "      <td>0</td>\n",
              "      <td>0</td>\n",
              "      <td>1</td>\n",
              "      <td>inbed</td>\n",
              "    </tr>\n",
              "    <tr>\n",
              "      <th>4220</th>\n",
              "      <td>4311</td>\n",
              "      <td>left</td>\n",
              "      <td>1873</td>\n",
              "      <td>58</td>\n",
              "      <td>1</td>\n",
              "      <td>0</td>\n",
              "      <td>0</td>\n",
              "      <td>1</td>\n",
              "      <td>inbed</td>\n",
              "    </tr>\n",
              "    <tr>\n",
              "      <th>3710</th>\n",
              "      <td>3770</td>\n",
              "      <td>right</td>\n",
              "      <td>1871</td>\n",
              "      <td>65</td>\n",
              "      <td>1</td>\n",
              "      <td>0</td>\n",
              "      <td>0</td>\n",
              "      <td>1</td>\n",
              "      <td>inbed</td>\n",
              "    </tr>\n",
              "    <tr>\n",
              "      <th>611</th>\n",
              "      <td>612</td>\n",
              "      <td>right</td>\n",
              "      <td>1925</td>\n",
              "      <td>67</td>\n",
              "      <td>0</td>\n",
              "      <td>0</td>\n",
              "      <td>0</td>\n",
              "      <td>0</td>\n",
              "      <td>alive</td>\n",
              "    </tr>\n",
              "  </tbody>\n",
              "</table>\n",
              "</div>\n",
              "      <button class=\"colab-df-convert\" onclick=\"convertToInteractive('df-0a5eb705-7332-40cf-910a-21486fe3294d')\"\n",
              "              title=\"Convert this dataframe to an interactive table.\"\n",
              "              style=\"display:none;\">\n",
              "        \n",
              "  <svg xmlns=\"http://www.w3.org/2000/svg\" height=\"24px\"viewBox=\"0 0 24 24\"\n",
              "       width=\"24px\">\n",
              "    <path d=\"M0 0h24v24H0V0z\" fill=\"none\"/>\n",
              "    <path d=\"M18.56 5.44l.94 2.06.94-2.06 2.06-.94-2.06-.94-.94-2.06-.94 2.06-2.06.94zm-11 1L8.5 8.5l.94-2.06 2.06-.94-2.06-.94L8.5 2.5l-.94 2.06-2.06.94zm10 10l.94 2.06.94-2.06 2.06-.94-2.06-.94-.94-2.06-.94 2.06-2.06.94z\"/><path d=\"M17.41 7.96l-1.37-1.37c-.4-.4-.92-.59-1.43-.59-.52 0-1.04.2-1.43.59L10.3 9.45l-7.72 7.72c-.78.78-.78 2.05 0 2.83L4 21.41c.39.39.9.59 1.41.59.51 0 1.02-.2 1.41-.59l7.78-7.78 2.81-2.81c.8-.78.8-2.07 0-2.86zM5.41 20L4 18.59l7.72-7.72 1.47 1.35L5.41 20z\"/>\n",
              "  </svg>\n",
              "      </button>\n",
              "      \n",
              "  <style>\n",
              "    .colab-df-container {\n",
              "      display:flex;\n",
              "      flex-wrap:wrap;\n",
              "      gap: 12px;\n",
              "    }\n",
              "\n",
              "    .colab-df-convert {\n",
              "      background-color: #E8F0FE;\n",
              "      border: none;\n",
              "      border-radius: 50%;\n",
              "      cursor: pointer;\n",
              "      display: none;\n",
              "      fill: #1967D2;\n",
              "      height: 32px;\n",
              "      padding: 0 0 0 0;\n",
              "      width: 32px;\n",
              "    }\n",
              "\n",
              "    .colab-df-convert:hover {\n",
              "      background-color: #E2EBFA;\n",
              "      box-shadow: 0px 1px 2px rgba(60, 64, 67, 0.3), 0px 1px 3px 1px rgba(60, 64, 67, 0.15);\n",
              "      fill: #174EA6;\n",
              "    }\n",
              "\n",
              "    [theme=dark] .colab-df-convert {\n",
              "      background-color: #3B4455;\n",
              "      fill: #D2E3FC;\n",
              "    }\n",
              "\n",
              "    [theme=dark] .colab-df-convert:hover {\n",
              "      background-color: #434B5C;\n",
              "      box-shadow: 0px 1px 3px 1px rgba(0, 0, 0, 0.15);\n",
              "      filter: drop-shadow(0px 1px 2px rgba(0, 0, 0, 0.3));\n",
              "      fill: #FFFFFF;\n",
              "    }\n",
              "  </style>\n",
              "\n",
              "      <script>\n",
              "        const buttonEl =\n",
              "          document.querySelector('#df-0a5eb705-7332-40cf-910a-21486fe3294d button.colab-df-convert');\n",
              "        buttonEl.style.display =\n",
              "          google.colab.kernel.accessAllowed ? 'block' : 'none';\n",
              "\n",
              "        async function convertToInteractive(key) {\n",
              "          const element = document.querySelector('#df-0a5eb705-7332-40cf-910a-21486fe3294d');\n",
              "          const dataTable =\n",
              "            await google.colab.kernel.invokeFunction('convertToInteractive',\n",
              "                                                     [key], {});\n",
              "          if (!dataTable) return;\n",
              "\n",
              "          const docLinkHtml = 'Like what you see? Visit the ' +\n",
              "            '<a target=\"_blank\" href=https://colab.research.google.com/notebooks/data_table.ipynb>data table notebook</a>'\n",
              "            + ' to learn more about interactive tables.';\n",
              "          element.innerHTML = '';\n",
              "          dataTable['output_type'] = 'display_data';\n",
              "          await google.colab.output.renderOutput(dataTable, element);\n",
              "          const docLink = document.createElement('div');\n",
              "          docLink.innerHTML = docLinkHtml;\n",
              "          element.appendChild(docLink);\n",
              "        }\n",
              "      </script>\n",
              "    </div>\n",
              "  </div>\n",
              "  "
            ]
          },
          "metadata": {},
          "execution_count": 18
        }
      ]
    },
    {
      "cell_type": "code",
      "source": [
        "df['cause'].unique() #define los posibles valores que puede tomar la columna 'cause'"
      ],
      "metadata": {
        "colab": {
          "base_uri": "https://localhost:8080/"
        },
        "id": "yewSC6hlL5Os",
        "outputId": "8887a541-7777-4b44-c435-94bc6dd6c2d7"
      },
      "execution_count": null,
      "outputs": [
        {
          "output_type": "execute_result",
          "data": {
            "text/plain": [
              "array(['alive', 'inbed', 'acd'], dtype=object)"
            ]
          },
          "metadata": {},
          "execution_count": 19
        }
      ]
    },
    {
      "cell_type": "markdown",
      "source": [
        "**SELECCIÓN DE FILAS Y COLUMNAS**\n",
        "\n",
        "Para la referenciación de filas y/o columnas en un DataFrame se hace uso de .loc[  ] y .iloc[  ], el uso de uno  o de otro depende de la referenciación que usted desee hacer par acceder a la información.\n",
        "\n",
        ".loc[  ] se usa si usted conoce la etiqueta o nombre de la fila o columna.\n",
        "\n"
      ],
      "metadata": {
        "id": "GkxU_Kr-Mk3u"
      }
    },
    {
      "cell_type": "code",
      "source": [
        "df.loc[0:10,'year']"
      ],
      "metadata": {
        "colab": {
          "base_uri": "https://localhost:8080/"
        },
        "id": "lt64TyvkMquv",
        "outputId": "af135459-734d-4465-dbfa-3e54c134d07c"
      },
      "execution_count": null,
      "outputs": [
        {
          "output_type": "execute_result",
          "data": {
            "text/plain": [
              "0     1890\n",
              "1     1892\n",
              "2     1893\n",
              "3     1894\n",
              "4     1896\n",
              "5     1896\n",
              "6     1897\n",
              "7     1898\n",
              "8     1898\n",
              "9     1898\n",
              "10    1900\n",
              "Name: year, dtype: int64"
            ]
          },
          "metadata": {},
          "execution_count": 22
        }
      ]
    },
    {
      "cell_type": "markdown",
      "source": [
        ".iloc[  ] se usa para refenciase solo con los indices "
      ],
      "metadata": {
        "id": "XH4qnLOoVKZr"
      }
    },
    {
      "cell_type": "code",
      "source": [
        "df.iloc[0:10, 2]"
      ],
      "metadata": {
        "colab": {
          "base_uri": "https://localhost:8080/"
        },
        "id": "iKG1U4NHV5Rn",
        "outputId": "8d60e6b7-073a-469a-e2b1-cb84c4b85ca6"
      },
      "execution_count": null,
      "outputs": [
        {
          "output_type": "execute_result",
          "data": {
            "text/plain": [
              "0    1890\n",
              "1    1892\n",
              "2    1893\n",
              "3    1894\n",
              "4    1896\n",
              "5    1896\n",
              "6    1897\n",
              "7    1898\n",
              "8    1898\n",
              "9    1898\n",
              "Name: year, dtype: int64"
            ]
          },
          "metadata": {},
          "execution_count": 23
        }
      ]
    },
    {
      "cell_type": "markdown",
      "source": [
        "Tambien es posible combinar algunos de los métodos anteriores para tomar una porción especifica de datos:"
      ],
      "metadata": {
        "id": "3CCz-ELLdyY_"
      }
    },
    {
      "cell_type": "code",
      "source": [
        "df[['year','cause']].head()"
      ],
      "metadata": {
        "colab": {
          "base_uri": "https://localhost:8080/",
          "height": 206
        },
        "id": "eQjI4Wrzd8WJ",
        "outputId": "2481acb0-a84c-4a5b-8a61-83e3b3ac85b5"
      },
      "execution_count": null,
      "outputs": [
        {
          "output_type": "execute_result",
          "data": {
            "text/plain": [
              "   year  cause\n",
              "0  1890  alive\n",
              "1  1892  alive\n",
              "2  1893  alive\n",
              "3  1894  alive\n",
              "4  1896  alive"
            ],
            "text/html": [
              "\n",
              "  <div id=\"df-de93daad-8289-4f33-9a95-b0173269af3d\">\n",
              "    <div class=\"colab-df-container\">\n",
              "      <div>\n",
              "<style scoped>\n",
              "    .dataframe tbody tr th:only-of-type {\n",
              "        vertical-align: middle;\n",
              "    }\n",
              "\n",
              "    .dataframe tbody tr th {\n",
              "        vertical-align: top;\n",
              "    }\n",
              "\n",
              "    .dataframe thead th {\n",
              "        text-align: right;\n",
              "    }\n",
              "</style>\n",
              "<table border=\"1\" class=\"dataframe\">\n",
              "  <thead>\n",
              "    <tr style=\"text-align: right;\">\n",
              "      <th></th>\n",
              "      <th>year</th>\n",
              "      <th>cause</th>\n",
              "    </tr>\n",
              "  </thead>\n",
              "  <tbody>\n",
              "    <tr>\n",
              "      <th>0</th>\n",
              "      <td>1890</td>\n",
              "      <td>alive</td>\n",
              "    </tr>\n",
              "    <tr>\n",
              "      <th>1</th>\n",
              "      <td>1892</td>\n",
              "      <td>alive</td>\n",
              "    </tr>\n",
              "    <tr>\n",
              "      <th>2</th>\n",
              "      <td>1893</td>\n",
              "      <td>alive</td>\n",
              "    </tr>\n",
              "    <tr>\n",
              "      <th>3</th>\n",
              "      <td>1894</td>\n",
              "      <td>alive</td>\n",
              "    </tr>\n",
              "    <tr>\n",
              "      <th>4</th>\n",
              "      <td>1896</td>\n",
              "      <td>alive</td>\n",
              "    </tr>\n",
              "  </tbody>\n",
              "</table>\n",
              "</div>\n",
              "      <button class=\"colab-df-convert\" onclick=\"convertToInteractive('df-de93daad-8289-4f33-9a95-b0173269af3d')\"\n",
              "              title=\"Convert this dataframe to an interactive table.\"\n",
              "              style=\"display:none;\">\n",
              "        \n",
              "  <svg xmlns=\"http://www.w3.org/2000/svg\" height=\"24px\"viewBox=\"0 0 24 24\"\n",
              "       width=\"24px\">\n",
              "    <path d=\"M0 0h24v24H0V0z\" fill=\"none\"/>\n",
              "    <path d=\"M18.56 5.44l.94 2.06.94-2.06 2.06-.94-2.06-.94-.94-2.06-.94 2.06-2.06.94zm-11 1L8.5 8.5l.94-2.06 2.06-.94-2.06-.94L8.5 2.5l-.94 2.06-2.06.94zm10 10l.94 2.06.94-2.06 2.06-.94-2.06-.94-.94-2.06-.94 2.06-2.06.94z\"/><path d=\"M17.41 7.96l-1.37-1.37c-.4-.4-.92-.59-1.43-.59-.52 0-1.04.2-1.43.59L10.3 9.45l-7.72 7.72c-.78.78-.78 2.05 0 2.83L4 21.41c.39.39.9.59 1.41.59.51 0 1.02-.2 1.41-.59l7.78-7.78 2.81-2.81c.8-.78.8-2.07 0-2.86zM5.41 20L4 18.59l7.72-7.72 1.47 1.35L5.41 20z\"/>\n",
              "  </svg>\n",
              "      </button>\n",
              "      \n",
              "  <style>\n",
              "    .colab-df-container {\n",
              "      display:flex;\n",
              "      flex-wrap:wrap;\n",
              "      gap: 12px;\n",
              "    }\n",
              "\n",
              "    .colab-df-convert {\n",
              "      background-color: #E8F0FE;\n",
              "      border: none;\n",
              "      border-radius: 50%;\n",
              "      cursor: pointer;\n",
              "      display: none;\n",
              "      fill: #1967D2;\n",
              "      height: 32px;\n",
              "      padding: 0 0 0 0;\n",
              "      width: 32px;\n",
              "    }\n",
              "\n",
              "    .colab-df-convert:hover {\n",
              "      background-color: #E2EBFA;\n",
              "      box-shadow: 0px 1px 2px rgba(60, 64, 67, 0.3), 0px 1px 3px 1px rgba(60, 64, 67, 0.15);\n",
              "      fill: #174EA6;\n",
              "    }\n",
              "\n",
              "    [theme=dark] .colab-df-convert {\n",
              "      background-color: #3B4455;\n",
              "      fill: #D2E3FC;\n",
              "    }\n",
              "\n",
              "    [theme=dark] .colab-df-convert:hover {\n",
              "      background-color: #434B5C;\n",
              "      box-shadow: 0px 1px 3px 1px rgba(0, 0, 0, 0.15);\n",
              "      filter: drop-shadow(0px 1px 2px rgba(0, 0, 0, 0.3));\n",
              "      fill: #FFFFFF;\n",
              "    }\n",
              "  </style>\n",
              "\n",
              "      <script>\n",
              "        const buttonEl =\n",
              "          document.querySelector('#df-de93daad-8289-4f33-9a95-b0173269af3d button.colab-df-convert');\n",
              "        buttonEl.style.display =\n",
              "          google.colab.kernel.accessAllowed ? 'block' : 'none';\n",
              "\n",
              "        async function convertToInteractive(key) {\n",
              "          const element = document.querySelector('#df-de93daad-8289-4f33-9a95-b0173269af3d');\n",
              "          const dataTable =\n",
              "            await google.colab.kernel.invokeFunction('convertToInteractive',\n",
              "                                                     [key], {});\n",
              "          if (!dataTable) return;\n",
              "\n",
              "          const docLinkHtml = 'Like what you see? Visit the ' +\n",
              "            '<a target=\"_blank\" href=https://colab.research.google.com/notebooks/data_table.ipynb>data table notebook</a>'\n",
              "            + ' to learn more about interactive tables.';\n",
              "          element.innerHTML = '';\n",
              "          dataTable['output_type'] = 'display_data';\n",
              "          await google.colab.output.renderOutput(dataTable, element);\n",
              "          const docLink = document.createElement('div');\n",
              "          docLink.innerHTML = docLinkHtml;\n",
              "          element.appendChild(docLink);\n",
              "        }\n",
              "      </script>\n",
              "    </div>\n",
              "  </div>\n",
              "  "
            ]
          },
          "metadata": {},
          "execution_count": 24
        }
      ]
    },
    {
      "cell_type": "markdown",
      "source": [
        "**EJERCICIO 2:** Importe una base de datos en formato .csv o desde excel y haga una familiarización con sus datos"
      ],
      "metadata": {
        "id": "BuUM9YXmg9KJ"
      }
    },
    {
      "cell_type": "markdown",
      "source": [
        "**INSERTAR FILAS O COLUMNAS A UN DATAFRAME**\n",
        "\n",
        "Hay una gran variedad de formas de añadir filas y columnas en el dataframe, es posible hacer uso del .loc[  ] o tambien es posible utilizar .insert(). Es posible incluso hacer la concatenación de 2 dataframe usando pd.merge(), concat(), or join().\n",
        "\n",
        "Para nuestro ejemplo puntual, utilizaremos .iloc[ ] y .insert( ) para agregar nuevos datos."
      ],
      "metadata": {
        "id": "cbbDhb-RhYXB"
      }
    },
    {
      "cell_type": "code",
      "source": [
        "print('Antes: \\n', df.tail())\n",
        "df.loc[5960]=[6173, 'right', 1994, 28, 0, 0, 0, 0, 'alive']\n",
        "print('Despues: \\n', df.tail())"
      ],
      "metadata": {
        "colab": {
          "base_uri": "https://localhost:8080/"
        },
        "id": "me7lHJ2MkFlt",
        "outputId": "1f6d1828-52df-4bec-b8c7-3a95a7d77abe"
      },
      "execution_count": null,
      "outputs": [
        {
          "output_type": "stream",
          "name": "stdout",
          "text": [
            "Antes: \n",
            "       Unnamed: 0   left  year  life  dead  acd  kia  inbed  cause\n",
            "5955        6168  right  1890    46     1    0    0      1  inbed\n",
            "5956        6169  right  1919    63     1    0    0      1  inbed\n",
            "5957        6170   left  1876    88     1    0    0      1  inbed\n",
            "5958        6171   left  1850    65     1    0    0      1  inbed\n",
            "5959        6172   left  1885    32     1    1    1      0    acd\n",
            "Despues: \n",
            "       Unnamed: 0   left  year  life  dead  acd  kia  inbed  cause\n",
            "5956        6169  right  1919    63     1    0    0      1  inbed\n",
            "5957        6170   left  1876    88     1    0    0      1  inbed\n",
            "5958        6171   left  1850    65     1    0    0      1  inbed\n",
            "5959        6172   left  1885    32     1    1    1      0    acd\n",
            "5960        6173  right  1994    28     0    0    0      0  alive\n"
          ]
        }
      ]
    },
    {
      "cell_type": "markdown",
      "source": [
        "Note que una nueva muestra o fila ha sido agregada al final del Dataframe. Adicionalmente, tenga en cuenta que en la adición del nuevo dato se definieron los valores de todas las columnas, no hacer esto generará un error, es preferible añadir la palabra None como indicador de la inexistencia del dato"
      ],
      "metadata": {
        "id": "jMQo-HU_lj_L"
      }
    },
    {
      "cell_type": "code",
      "source": [
        "print('Antes: \\n', df.tail())\n",
        "df.loc[5961]=[6174, 'right', 1965, 58, None, None, None, None, 'alive']\n",
        "print('Despues: \\n', df.tail())"
      ],
      "metadata": {
        "colab": {
          "base_uri": "https://localhost:8080/"
        },
        "id": "17ixsWFsl77M",
        "outputId": "f0140e94-dc4c-4a96-cf48-3d68ceb8be6a"
      },
      "execution_count": null,
      "outputs": [
        {
          "output_type": "stream",
          "name": "stdout",
          "text": [
            "Antes: \n",
            "       Unnamed: 0   left  year  life  dead  acd  kia  inbed  cause\n",
            "5956        6169  right  1919    63     1    0    0      1  inbed\n",
            "5957        6170   left  1876    88     1    0    0      1  inbed\n",
            "5958        6171   left  1850    65     1    0    0      1  inbed\n",
            "5959        6172   left  1885    32     1    1    1      0    acd\n",
            "5960        6173  right  1994    28     0    0    0      0  alive\n",
            "Despues: \n",
            "       Unnamed: 0   left  year  life  dead   acd   kia inbed  cause\n",
            "5957        6170   left  1876    88     1     0     0     1  inbed\n",
            "5958        6171   left  1850    65     1     0     0     1  inbed\n",
            "5959        6172   left  1885    32     1     1     1     0    acd\n",
            "5960        6173  right  1994    28     0     0     0     0  alive\n",
            "5961        6174  right  1965    58  None  None  None  None  alive\n"
          ]
        }
      ]
    },
    {
      "cell_type": "code",
      "source": [
        "df.info()#Note que agregar valores None cambia la info de Non-Null Count"
      ],
      "metadata": {
        "colab": {
          "base_uri": "https://localhost:8080/"
        },
        "id": "b_GJm-OqmW67",
        "outputId": "c024ee73-ac4b-4494-b59d-ae1f56ca03a4"
      },
      "execution_count": null,
      "outputs": [
        {
          "output_type": "stream",
          "name": "stdout",
          "text": [
            "<class 'pandas.core.frame.DataFrame'>\n",
            "Int64Index: 5962 entries, 0 to 5961\n",
            "Data columns (total 9 columns):\n",
            " #   Column      Non-Null Count  Dtype \n",
            "---  ------      --------------  ----- \n",
            " 0   Unnamed: 0  5962 non-null   int64 \n",
            " 1   left        5962 non-null   object\n",
            " 2   year        5962 non-null   int64 \n",
            " 3   life        5962 non-null   int64 \n",
            " 4   dead        5961 non-null   object\n",
            " 5   acd         5961 non-null   object\n",
            " 6   kia         5961 non-null   object\n",
            " 7   inbed       5961 non-null   object\n",
            " 8   cause       5962 non-null   object\n",
            "dtypes: int64(3), object(6)\n",
            "memory usage: 465.8+ KB\n"
          ]
        }
      ]
    },
    {
      "cell_type": "markdown",
      "source": [
        "Tambien es posible insertar información que no necesariamente se ubique al final de las filas o columnas, en tal caso, puede usar .insert() el cual es aplicable en columnas"
      ],
      "metadata": {
        "id": "6nj3uwLoqsu2"
      }
    },
    {
      "cell_type": "code",
      "source": [
        "print('Antes: \\n', df.tail())\n",
        "df.insert(3,'new_col',0)#se definen 3 párametros, posición de inserción, nombre de la nueva columna, y valores(int, array o series de pandas)\n",
        "print('Despues: \\n', df.tail())"
      ],
      "metadata": {
        "colab": {
          "base_uri": "https://localhost:8080/"
        },
        "id": "ybZ9tC16q5zz",
        "outputId": "83497cc9-5e19-4bdc-a19e-1066a6574688"
      },
      "execution_count": null,
      "outputs": [
        {
          "output_type": "stream",
          "name": "stdout",
          "text": [
            "Antes: \n",
            "       Unnamed: 0   left  year  life  dead   acd   kia inbed  cause\n",
            "5957        6170   left  1876    88     1     0     0     1  inbed\n",
            "5958        6171   left  1850    65     1     0     0     1  inbed\n",
            "5959        6172   left  1885    32     1     1     1     0    acd\n",
            "5960        6173  right  1994    28     0     0     0     0  alive\n",
            "5961        6174  right  1965    58  None  None  None  None  alive\n",
            "Despues: \n",
            "       Unnamed: 0   left  year  new_col  life  dead   acd   kia inbed  cause\n",
            "5957        6170   left  1876        0    88     1     0     0     1  inbed\n",
            "5958        6171   left  1850        0    65     1     0     0     1  inbed\n",
            "5959        6172   left  1885        0    32     1     1     1     0    acd\n",
            "5960        6173  right  1994        0    28     0     0     0     0  alive\n",
            "5961        6174  right  1965        0    58  None  None  None  None  alive\n"
          ]
        }
      ]
    },
    {
      "cell_type": "markdown",
      "source": [
        "Tenga en cuenta que es posible agregar varios valores definiendo un nuevo DataFrame y utilizanto concat()\n",
        "\n",
        "**EJERCICIO 3:** Cree un DataFrame por el método que desee y concatenelo a nivel de filas a su Dataframe original. Use la documentación de pandas para investigar como usar el método.\n",
        "\n",
        "**ELIMINAR FILAS O COLUMNAS DE UN DATAFRAME**\n",
        "\n",
        "Para la eliminación de filas o columnas se hace uso de .Drop() debe especificar la posición sea por categora en caso de las columnas o por indice en el caso de las filas. Recuerde seleccionar el Axis. Si realizo el ejercicio 3 ya debe de tener claro que  se define 0 para filas y  1 para columnas"
      ],
      "metadata": {
        "id": "fLSfDpFYnBbp"
      }
    },
    {
      "cell_type": "code",
      "source": [
        "df=df.drop(labels='new_col',axis=1)#para eliminar la columna que añadimos\n",
        "print(df)"
      ],
      "metadata": {
        "colab": {
          "base_uri": "https://localhost:8080/"
        },
        "id": "eP11FKMJnZJV",
        "outputId": "5f97be11-ba6e-437e-a913-42d8eac20d26"
      },
      "execution_count": null,
      "outputs": [
        {
          "output_type": "stream",
          "name": "stdout",
          "text": [
            "      Unnamed: 0   left  year  life  dead   acd   kia inbed  cause\n",
            "0              1  right  1890   102     0     0     0     0  alive\n",
            "1              2   left  1892   100     0     0     0     0  alive\n",
            "2              3  right  1893    99     0     0     0     0  alive\n",
            "3              4  right  1894    98     0     0     0     0  alive\n",
            "4              5  right  1896    96     0     0     0     0  alive\n",
            "...          ...    ...   ...   ...   ...   ...   ...   ...    ...\n",
            "5957        6170   left  1876    88     1     0     0     1  inbed\n",
            "5958        6171   left  1850    65     1     0     0     1  inbed\n",
            "5959        6172   left  1885    32     1     1     1     0    acd\n",
            "5960        6173  right  1994    28     0     0     0     0  alive\n",
            "5961        6174  right  1965    58  None  None  None  None  alive\n",
            "\n",
            "[5962 rows x 9 columns]\n"
          ]
        }
      ]
    },
    {
      "cell_type": "code",
      "source": [
        "df=df.drop(index=[5960, 5961],axis=0) #para eliminar las 2 filas añadidas\n",
        "print(df)"
      ],
      "metadata": {
        "colab": {
          "base_uri": "https://localhost:8080/"
        },
        "id": "2LFRYV5ytUbR",
        "outputId": "ccea87dd-bdbf-4db9-dfec-56ec10e8551c"
      },
      "execution_count": null,
      "outputs": [
        {
          "output_type": "stream",
          "name": "stdout",
          "text": [
            "      Unnamed: 0   left  year  life dead acd kia inbed  cause\n",
            "0              1  right  1890   102    0   0   0     0  alive\n",
            "1              2   left  1892   100    0   0   0     0  alive\n",
            "2              3  right  1893    99    0   0   0     0  alive\n",
            "3              4  right  1894    98    0   0   0     0  alive\n",
            "4              5  right  1896    96    0   0   0     0  alive\n",
            "...          ...    ...   ...   ...  ...  ..  ..   ...    ...\n",
            "5955        6168  right  1890    46    1   0   0     1  inbed\n",
            "5956        6169  right  1919    63    1   0   0     1  inbed\n",
            "5957        6170   left  1876    88    1   0   0     1  inbed\n",
            "5958        6171   left  1850    65    1   0   0     1  inbed\n",
            "5959        6172   left  1885    32    1   1   1     0    acd\n",
            "\n",
            "[5960 rows x 9 columns]\n"
          ]
        }
      ]
    },
    {
      "cell_type": "markdown",
      "source": [
        "Tenga en cuenta que los 2 casos expuestos anteriormnente se hizo una asignación del retorno para actualizar df"
      ],
      "metadata": {
        "id": "rnuYP9IYyxl8"
      }
    },
    {
      "cell_type": "markdown",
      "source": [
        "**RENOMBRAR INDICES DE FILAS O LAS CATEGORIAS DE COLUMNAS**\n",
        "\n",
        "En ciertos casos puede llegar a ser necesario hacer un cambi de nombres para la referenciación de filas o columnas. En dado caso puede hacer uso del método .rename( )"
      ],
      "metadata": {
        "id": "FgEDr6sAxz6M"
      }
    },
    {
      "cell_type": "code",
      "source": [
        "print('Antes: \\n', df.head())\n",
        "df=df.rename(index={0:'first'}) #index cambia el valor indicado en la fila\n",
        "df=df.rename(columns={'year':'years'})#columns cambia el nombre indicado de la columna\n",
        "print('Despues: \\n', df.head())"
      ],
      "metadata": {
        "colab": {
          "base_uri": "https://localhost:8080/"
        },
        "id": "vMl00KDVzC6d",
        "outputId": "05acd623-b2fa-4e70-ef78-b3cc25aed477"
      },
      "execution_count": null,
      "outputs": [
        {
          "output_type": "stream",
          "name": "stdout",
          "text": [
            "Antes: \n",
            "    Unnamed: 0   left  year  life dead acd kia inbed  cause\n",
            "0           1  right  1890   102    0   0   0     0  alive\n",
            "1           2   left  1892   100    0   0   0     0  alive\n",
            "2           3  right  1893    99    0   0   0     0  alive\n",
            "3           4  right  1894    98    0   0   0     0  alive\n",
            "4           5  right  1896    96    0   0   0     0  alive\n",
            "Despues: \n",
            "        Unnamed: 0   left  years  life dead acd kia inbed  cause\n",
            "first           1  right   1890   102    0   0   0     0  alive\n",
            "1               2   left   1892   100    0   0   0     0  alive\n",
            "2               3  right   1893    99    0   0   0     0  alive\n",
            "3               4  right   1894    98    0   0   0     0  alive\n",
            "4               5  right   1896    96    0   0   0     0  alive\n"
          ]
        }
      ]
    },
    {
      "cell_type": "markdown",
      "source": [
        "Nuevamente la actualización de df depende de la asignación."
      ],
      "metadata": {
        "id": "1ugYvMO6z78H"
      }
    },
    {
      "cell_type": "markdown",
      "source": [
        "**ITERACIONES EN UN DATAFRAMES**\n",
        "\n",
        "En ciertas ocasiones, puede ser necesario iterar a lo largo de todo el dataframe, las iteraciones a lo largo del dataframe pueden definirse como sigue:"
      ],
      "metadata": {
        "id": "LggV47FsuEMy"
      }
    },
    {
      "cell_type": "code",
      "source": [
        "for index, col in df.iterrows():\n",
        "  print(type(index))\n",
        "  print(type(col))\n",
        "  print(index, col)\n",
        "  print(col['life'])\n",
        "  break;"
      ],
      "metadata": {
        "colab": {
          "base_uri": "https://localhost:8080/"
        },
        "id": "vETr8bIiuCJN",
        "outputId": "62644684-33a3-4d2c-e5d2-7c32d5896925"
      },
      "execution_count": null,
      "outputs": [
        {
          "output_type": "stream",
          "name": "stdout",
          "text": [
            "<class 'str'>\n",
            "<class 'pandas.core.series.Series'>\n",
            "first Unnamed: 0        1\n",
            "left          right\n",
            "years          1890\n",
            "life            102\n",
            "dead              0\n",
            "acd               0\n",
            "kia               0\n",
            "inbed             0\n",
            "cause         alive\n",
            "Name: first, dtype: object\n",
            "102\n"
          ]
        }
      ]
    },
    {
      "cell_type": "markdown",
      "source": [
        "Note que mientras index es un valor entero que hace referencia a la posición de la fila tomada, col es una serie de pandas que incluye todas los valores de columna para esa fila en particular.\n",
        "Una serie de pandas es una estructura unidimensional con etiquetas de eje (incluidas las series temporales)."
      ],
      "metadata": {
        "id": "fPaZFV0d1K39"
      }
    },
    {
      "cell_type": "markdown",
      "source": [
        "**EJERCICIO 4:** haga un ciclo iterativo que le permita cambiar los valores de una columna con valores categoricos o objetos a simplemente números.\n",
        "Use condicionales y tenga en cuenta todos los posibles valores que pyuede tomar el dato en dicha columna para saber cuantos numeros deberia definir."
      ],
      "metadata": {
        "id": "xF32flnS3N90"
      }
    },
    {
      "cell_type": "code",
      "source": [],
      "metadata": {
        "id": "23hSPzIc1InT"
      },
      "execution_count": null,
      "outputs": []
    }
  ]
}